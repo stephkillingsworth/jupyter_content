{
 "cells": [
  {
   "cell_type": "markdown",
   "metadata": {},
   "source": [
    "# Ch 4: Python Functions\n",
    "\n",
    "Chapter 4 of Py4E goes into functions, starting by showing several functions we've already seen, like the `type` function to get a variable's type, the type conversion functions (`float(input)`), etc. \n",
    "\n",
    "## 4.2 Built-in functions\n",
    "\n",
    "One of the design goals of Python was to keep the main language, the built-in functions, relatively limited. You can do a fair bit with the built-in functions, but you will almost always need to import additional functions. The idea here is that different people need different functions, so rather than make a bloated language that has everything, allow people to import what they need.\n",
    "\n",
    "\n",
    "## 4.4 Math functions (p. 45)\n",
    "\n",
    "Here, we `import math` because we want some functions that are not in the built-in functions of Python.\n",
    "\n",
    "## 4.5 Random numbers (p.46)\n",
    "\n",
    "This is an interesting bit on `pseudorandom` numbers--computers cannot make truely random numbers.\n",
    "\n",
    "Remember the dot notation: once imported, the functions that are part of a module can be called with the `module.function` format as in `random.random` in this case since both the module and function are called \"random\".\n",
    "\n",
    "Run the next cell several times and notice that you get different numbers each time."
   ]
  },
  {
   "cell_type": "code",
   "execution_count": 4,
   "metadata": {},
   "outputs": [
    {
     "output_type": "stream",
     "name": "stdout",
     "text": "0.08065112493147819\n0.8002649966911426\n0.14106796745422878\n0.2666543683652133\n0.5673512668885604\n0.07539252127830254\n0.18138280879024504\n0.704868343417305\n0.21930650242743588\n0.09178233963446525\n"
    }
   ],
   "source": [
    "import random\n",
    "\n",
    "for i in range(10):\n",
    "    x = random.random() \n",
    "    print(x)"
   ]
  },
  {
   "cell_type": "markdown",
   "metadata": {},
   "source": [
    "In addition to the random function, the random module has randint and several other functions. \n",
    "\n",
    "**How would you find out about the functions in the random module?**"
   ]
  },
  {
   "cell_type": "markdown",
   "metadata": {},
   "source": [
    "## 4.6 Adding new functions (p.47)\n",
    "\n",
    "Just as in Bash, you can write your own functions."
   ]
  },
  {
   "cell_type": "code",
   "execution_count": 6,
   "metadata": {},
   "outputs": [
    {
     "output_type": "stream",
     "name": "stdout",
     "text": "<function print_lyrics at 0x0000018097F4A0D0>\n<class 'function'>\nI'm a lumberjack, and I'm okay.\nI sleep all night and I work all day.\n"
    }
   ],
   "source": [
    "def print_lyrics():\n",
    "    print(\"I'm a lumberjack, and I'm okay.\")\n",
    "    print('I sleep all night and I work all day.')\n",
    "print(print_lyrics)\n",
    "print(type(print_lyrics))  # print_lyrics is a variable of type function\n",
    "print_lyrics()"
   ]
  },
  {
   "cell_type": "code",
   "execution_count": 7,
   "metadata": {},
   "outputs": [
    {
     "output_type": "stream",
     "name": "stdout",
     "text": "I'm a lumberjack, and I'm okay.\nI sleep all night and I work all day.\nI'm a lumberjack, and I'm okay.\nI sleep all night and I work all day.\n"
    }
   ],
   "source": [
    "def repeat_lyrics(): \n",
    "    print_lyrics() \n",
    "    print_lyrics()\n",
    "    \n",
    "repeat_lyrics()"
   ]
  },
  {
   "cell_type": "code",
   "execution_count": 8,
   "metadata": {},
   "outputs": [
    {
     "output_type": "stream",
     "name": "stdout",
     "text": "Spam!\nSpam!\n"
    }
   ],
   "source": [
    "def print_twice(bruce): \n",
    "    print(bruce)\n",
    "    print(bruce)\n",
    "\n",
    "print_twice(\"Spam!\")"
   ]
  },
  {
   "cell_type": "code",
   "execution_count": 9,
   "metadata": {},
   "outputs": [
    {
     "output_type": "stream",
     "name": "stdout",
     "text": "Eric, the half a bee.\nEric, the half a bee.\n"
    }
   ],
   "source": [
    "michael = 'Eric, the half a bee.'\n",
    "print_twice(michael)"
   ]
  },
  {
   "cell_type": "markdown",
   "metadata": {},
   "source": [
    "### The importance of varaible names\n",
    "\n",
    "Hopefully the last exampel above took some thinking to follow. That is partialyl because there is very little correspondence between the variable names and their content. This makes it hard to read! This is an example of poor variable name choice!"
   ]
  },
  {
   "cell_type": "markdown",
   "metadata": {},
   "source": [
    "## 4.10 Fruitful functions and void functions\n",
    "\n",
    "Some functions return information (a fruitful function) while others just do something (a void function). For example the `print_twice` function didn't return anything, it just printed some text twice.\n",
    "\n",
    "One important thing to remember with fruitful functions is that unless you do something with the returned value, like store it in a variable, the information is lost.\n"
   ]
  },
  {
   "cell_type": "code",
   "execution_count": 6,
   "metadata": {},
   "outputs": [
    {
     "data": {
      "text/plain": [
       "2.23606797749979"
      ]
     },
     "execution_count": 6,
     "metadata": {},
     "output_type": "execute_result"
    }
   ],
   "source": [
    "import math\n",
    "\n",
    "math.sqrt(5)"
   ]
  },
  {
   "cell_type": "markdown",
   "metadata": {},
   "source": [
    "On the Pyton interactive prompt or in Juypter, we see the result of that function call--the square root of 5 is diplayed. But **in a script**, that number just dissapears unless we do something with it, like store it in a variable."
   ]
  },
  {
   "cell_type": "code",
   "execution_count": 7,
   "metadata": {},
   "outputs": [],
   "source": [
    "x=math.sqrt(5)"
   ]
  },
  {
   "cell_type": "markdown",
   "metadata": {},
   "source": [
    "Simlarly, while the `sqrt` function returns something, not all funcions return anything. So assigning the return value may give **None**"
   ]
  },
  {
   "cell_type": "code",
   "execution_count": 8,
   "metadata": {},
   "outputs": [
    {
     "name": "stdout",
     "output_type": "stream",
     "text": [
      "I'm a lumberjack, and I'm okay.\n",
      "I sleep all night and I work all day.\n",
      "_________________\n",
      "None\n"
     ]
    }
   ],
   "source": [
    "lyrics=print_lyrics()\n",
    "print (\"_________________\")\n",
    "print(lyrics)"
   ]
  },
  {
   "cell_type": "markdown",
   "metadata": {},
   "source": [
    "The first two lines are the output of calling the `print_lyrics` function. The variable lyrics however has the value of **None**. Kind of like `True` and `False`, `None` is a special type, the \"NoneType\":"
   ]
  },
  {
   "cell_type": "code",
   "execution_count": 10,
   "metadata": {},
   "outputs": [
    {
     "output_type": "execute_result",
     "data": {
      "text/plain": "NoneType"
     },
     "metadata": {},
     "execution_count": 10
    }
   ],
   "source": [
    "type(None)"
   ]
  },
  {
   "cell_type": "markdown",
   "metadata": {},
   "source": [
    "This will be important later, but `None` is not the same as '0' or undefined.\n",
    "\n",
    "### Returning values from a function\n",
    "\n",
    "To return something from a function, use the `return` statement."
   ]
  },
  {
   "cell_type": "code",
   "execution_count": 9,
   "metadata": {},
   "outputs": [
    {
     "name": "stdout",
     "output_type": "stream",
     "text": [
      "8\n"
     ]
    }
   ],
   "source": [
    "def addtwo(a, b): \n",
    "    added = a + b\n",
    "    return added \n",
    "\n",
    "x = addtwo(3, 5)\n",
    "print(x)"
   ]
  },
  {
   "cell_type": "markdown",
   "metadata": {},
   "source": [
    "## 4.11 Why Functions? (p.52)\n",
    "\n",
    "This is summarized nicely by Py4E:\n",
    "\n",
    ">It may not be clear why it is worth the trouble to divide a program into functions. There are several reasons:\n",
    "* Creating a new function gives you an opportunity to name a group of statements, which makes your program easier to read, understand, and debug.\n",
    "* Functions can make a program smaller by eliminating repetitive code. Later, if you make a change, you only have to make it in one place.\n",
    "* Dividing a long program into functions allows you to debug the parts one at a time and then assemble them into a working whole.\n",
    "* Well-designed functions are often useful for many programs. Once you write and debug one, you can reuse it.\n",
    "\n",
    "I would add: any time you find yourself copying and pasting code from one section of a script into another section, stop yourself and convert that into a function!\n"
   ]
  },
  {
   "cell_type": "markdown",
   "metadata": {},
   "source": [
    "## Your turn\n",
    "Work on any exercises you haven't finished up.\n",
    "Or try Exercises 5 & 6 in Ch 4."
   ]
  },
  {
   "cell_type": "code",
   "execution_count": null,
   "metadata": {},
   "outputs": [],
   "source": []
  }
 ],
 "metadata": {
  "kernelspec": {
   "display_name": "Python 3",
   "language": "python",
   "name": "python3"
  },
  "language_info": {
   "codemirror_mode": {
    "name": "ipython",
    "version": 3
   },
   "file_extension": ".py",
   "mimetype": "text/x-python",
   "name": "python",
   "nbconvert_exporter": "python",
   "pygments_lexer": "ipython3",
   "version": "3.8.2-final"
  }
 },
 "nbformat": 4,
 "nbformat_minor": 2
}