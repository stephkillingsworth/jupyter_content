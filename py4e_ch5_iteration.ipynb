{
 "cells": [
  {
   "cell_type": "markdown",
   "metadata": {},
   "source": [
    "# Ch 5: Iteration\n",
    "\n",
    "## 5.1 Updatign variables (p. 57)\n",
    "\n",
    "One shortcut not mentioned for incrementing and decrementing varaibles is the `+=` and `-=` notation."
   ]
  },
  {
   "cell_type": "code",
   "execution_count": 1,
   "metadata": {},
   "outputs": [
    {
     "name": "stdout",
     "output_type": "stream",
     "text": [
      "x has been incremented to 11.\n",
      "x has been decremented to 10.\n"
     ]
    }
   ],
   "source": [
    "x = 10\n",
    "x += 1\n",
    "print(f\"x has been incremented to {x}.\")\n",
    "x -= 1\n",
    "print(f\"x has been decremented to {x}.\")"
   ]
  },
  {
   "cell_type": "markdown",
   "metadata": {},
   "source": [
    "## 5.2 The `while` statement (p. 57)\n",
    "\n",
    "As a reminder from the Bash section, here's the diagram of a `while` statement or loop.\n",
    "\n",
    "![Diagram of a while statement](https://github.com/comptoolsres/comptoolsres.github.io/blob/master/images/while_loop.png?raw=true)"
   ]
  },
  {
   "cell_type": "code",
   "execution_count": 2,
   "metadata": {},
   "outputs": [
    {
     "name": "stdout",
     "output_type": "stream",
     "text": [
      "5\n",
      "4\n",
      "3\n",
      "2\n",
      "1\n",
      "Blastoff!\n"
     ]
    }
   ],
   "source": [
    "n = 5\n",
    "while n > 0:\n",
    "    print(n)\n",
    "    n = n - 1\n",
    "print('Blastoff!')"
   ]
  },
  {
   "cell_type": "markdown",
   "metadata": {},
   "source": [
    "Much of the rest of this section should be very familiar to you from Bash!\n",
    "\n",
    "Here is the diagram of the `for` loop.\n",
    "\n",
    "![Diagram of for loop](https://github.com/comptoolsres/comptoolsres.github.io/blob/master/images/for_loop.png?raw=true)\n",
    "\n",
    "Compare the Bash for loop to the Python for loop:\n",
    "\n",
    "**Bash**\n",
    "```Bash\n",
    "for i in {1..30}\n",
    "do\n",
    "  echo $i\n",
    "done\n",
    "```\n",
    "\n",
    "**Python**\n",
    "```Python\n",
    "for i in range(30):\n",
    "    print(i)\n",
    "```\n",
    "\n",
    "or even **C**:\n",
    "```C\n",
    "for (i=1; i<30; i++)\n",
    "{\n",
    "  printf(\"%d\\n\", i);\n",
    "}\n",
    "```\n",
    "\n",
    "All produce essentially the same thing, and all should be relatively easy to look at and see what is happening. In general, the Python one would be the easiest to read--again, the focus by the developers on readability of the code.\n",
    "\n",
    "One small detail...These all give *slightly* different results.. Bash will print the numbers 1 to 30 inclusive. Python will print 0 to 29. And C will print 1 to 29. The devil is in the details... "
   ]
  },
  {
   "cell_type": "markdown",
   "metadata": {},
   "source": [
    "## 5.6.1 Counting and summing loops (p. 61)\n",
    "\n",
    "This section outlines common uses of loops. \n",
    "\n",
    "A couple of things to add...\n",
    "\n",
    "In the text, they mention initializing a variable ahead of the loop, running the loop, and looking at the varaible afterword.\n",
    "\n",
    "Let's look at what happens if you forget to initialize the variable ahead of time:"
   ]
  },
  {
   "cell_type": "code",
   "execution_count": 3,
   "metadata": {},
   "outputs": [
    {
     "ename": "NameError",
     "evalue": "name 'total' is not defined",
     "output_type": "error",
     "traceback": [
      "\u001b[0;31m---------------------------------------------------------------------------\u001b[0m",
      "\u001b[0;31mNameError\u001b[0m                                 Traceback (most recent call last)",
      "\u001b[0;32m<ipython-input-3-1857331ec259>\u001b[0m in \u001b[0;36m<module>\u001b[0;34m()\u001b[0m\n\u001b[1;32m      2\u001b[0m \u001b[0;34m\u001b[0m\u001b[0m\n\u001b[1;32m      3\u001b[0m \u001b[0;32mfor\u001b[0m \u001b[0mitervar\u001b[0m \u001b[0;32min\u001b[0m \u001b[0;34m[\u001b[0m\u001b[0;36m3\u001b[0m\u001b[0;34m,\u001b[0m \u001b[0;36m41\u001b[0m\u001b[0;34m,\u001b[0m \u001b[0;36m12\u001b[0m\u001b[0;34m,\u001b[0m \u001b[0;36m9\u001b[0m\u001b[0;34m,\u001b[0m \u001b[0;36m74\u001b[0m\u001b[0;34m,\u001b[0m \u001b[0;36m15\u001b[0m\u001b[0;34m]\u001b[0m\u001b[0;34m:\u001b[0m\u001b[0;34m\u001b[0m\u001b[0m\n\u001b[0;32m----> 4\u001b[0;31m     \u001b[0mtotal\u001b[0m \u001b[0;34m=\u001b[0m \u001b[0mtotal\u001b[0m \u001b[0;34m+\u001b[0m \u001b[0mitervar\u001b[0m\u001b[0;34m\u001b[0m\u001b[0m\n\u001b[0m\u001b[1;32m      5\u001b[0m \u001b[0mprint\u001b[0m\u001b[0;34m(\u001b[0m\u001b[0;34m'Total: '\u001b[0m\u001b[0;34m,\u001b[0m \u001b[0mtotal\u001b[0m\u001b[0;34m)\u001b[0m\u001b[0;34m\u001b[0m\u001b[0m\n",
      "\u001b[0;31mNameError\u001b[0m: name 'total' is not defined"
     ]
    }
   ],
   "source": [
    "# Example 1 of not initializing the variable ahead of time\n",
    "\n",
    "for itervar in [3, 41, 12, 9, 74, 15]:\n",
    "    total = total + itervar\n",
    "print('Total: ', total)"
   ]
  },
  {
   "cell_type": "markdown",
   "metadata": {},
   "source": [
    "In this case `total` is not defined. Remember that in Bash, an undefined variable would happily be used as a blank, and the above would interpret it as 0 and give you the right number. That can be dangerous, and in this case Python complains and makes you define `total`.\n",
    "\n",
    "Another example is particularly impotant for Jupyter notebooks where you can jump around, re-execute cells, skip cells, etc. "
   ]
  },
  {
   "cell_type": "code",
   "execution_count": 4,
   "metadata": {},
   "outputs": [
    {
     "name": "stdout",
     "output_type": "stream",
     "text": [
      "Total: 16\n"
     ]
    }
   ],
   "source": [
    "# Example 2 of not initializing the variable ahead of time\n",
    "\n",
    "for itervar in [1, 2, 3]:\n",
    "    x = x + itervar\n",
    "print(f'Total: {x}')"
   ]
  },
  {
   "cell_type": "markdown",
   "metadata": {},
   "source": [
    "This is an example of what the text calls a **logic error**. Python happily did what we asked. But 1+2+3 is not 16!! How did it make this mistake??\n",
    "\n",
    "Well, if you look way up at the first code block in this notebook, we used the variable `x` there and it is still defined as 10. So when we run this code, the first iteration gives 10+1.\n",
    "\n",
    "Within a notebook, all variables remain in memory until the kernel is restarted. Keep that in mind!"
   ]
  }
 ],
 "metadata": {
  "kernelspec": {
   "display_name": "Python 3.6. (full)",
   "language": "python",
   "name": "python3-3.6-ufrc"
  },
  "language_info": {
   "codemirror_mode": {
    "name": "ipython",
    "version": 3
   },
   "file_extension": ".py",
   "mimetype": "text/x-python",
   "name": "python",
   "nbconvert_exporter": "python",
   "pygments_lexer": "ipython3",
   "version": "3.6.5"
  }
 },
 "nbformat": 4,
 "nbformat_minor": 4
}
